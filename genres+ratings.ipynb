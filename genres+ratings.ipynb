{
  "nbformat": 4,
  "nbformat_minor": 0,
  "metadata": {
    "colab": {
      "name": "genres+ratings.ipynb",
      "provenance": [],
      "collapsed_sections": [],
      "include_colab_link": true
    },
    "kernelspec": {
      "name": "python3",
      "display_name": "Python 3"
    },
    "language_info": {
      "name": "python"
    }
  },
  "cells": [
    {
      "cell_type": "markdown",
      "metadata": {
        "id": "view-in-github",
        "colab_type": "text"
      },
      "source": [
        "<a href=\"https://colab.research.google.com/github/Jayameena832/Interest-Level-estimation/blob/main/genres%2Bratings.ipynb\" target=\"_parent\"><img src=\"https://colab.research.google.com/assets/colab-badge.svg\" alt=\"Open In Colab\"/></a>"
      ]
    },
    {
      "cell_type": "code",
      "source": [
        "import pandas as pd\n",
        "\n",
        "    \n",
        "df = pd.concat([pd.read_csv('/content/x_train_smote_oversample (1).csv'),\n",
        "pd.read_csv('/content/Similarity_content_rating.csv')])\n",
        "\n",
        "result=df.groupby('link', as_index=False).sum()\n",
        "result.to_csv('result.csv')"
      ],
      "metadata": {
        "id": "-PLzBboqgkOy"
      },
      "execution_count": null,
      "outputs": []
    }
  ]
}