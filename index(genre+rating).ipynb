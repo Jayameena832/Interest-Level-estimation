{
  "nbformat": 4,
  "nbformat_minor": 0,
  "metadata": {
    "colab": {
      "name": "index(genre+rating).ipynb",
      "provenance": [],
      "collapsed_sections": [],
      "include_colab_link": true
    },
    "kernelspec": {
      "name": "python3",
      "display_name": "Python 3"
    },
    "language_info": {
      "name": "python"
    }
  },
  "cells": [
    {
      "cell_type": "markdown",
      "metadata": {
        "id": "view-in-github",
        "colab_type": "text"
      },
      "source": [
        "<a href=\"https://colab.research.google.com/github/Jayameena832/Interest-Level-estimation/blob/main/index(genre%2Brating).ipynb\" target=\"_parent\"><img src=\"https://colab.research.google.com/assets/colab-badge.svg\" alt=\"Open In Colab\"/></a>"
      ]
    },
    {
      "cell_type": "code",
      "execution_count": null,
      "metadata": {
        "id": "LQ47FJW8cd7Z"
      },
      "outputs": [],
      "source": [
        "import pandas as pd\n",
        "import numpy as np"
      ]
    },
    {
      "cell_type": "code",
      "source": [
        "df = pd.read_csv(\"/content/genres+ratings(without index).csv\")"
      ],
      "metadata": {
        "id": "Rmm_q3dvchUl"
      },
      "execution_count": null,
      "outputs": []
    },
    {
      "cell_type": "code",
      "source": [
        "df.head()"
      ],
      "metadata": {
        "colab": {
          "base_uri": "https://localhost:8080/",
          "height": 299
        },
        "id": "VBAv7CNHcu_N",
        "outputId": "c17c1f1b-bf7e-45ac-90fa-82cb47b194f0"
      },
      "execution_count": null,
      "outputs": [
        {
          "output_type": "execute_result",
          "data": {
            "text/plain": [
              "          2  1.497754886  1.562286981  1.406840777  1.401640301         1  \\\n",
              "0  1.497755     2.000000     1.279881     1.202507     1.806904  1.000000   \n",
              "1  1.562287     1.279881     2.000000     1.228761     1.714298  1.826942   \n",
              "2  1.406841     1.202507     1.228761     2.000000     1.163404  1.000000   \n",
              "3  1.401640     1.806904     1.714298     1.163404     2.000000  1.590683   \n",
              "4  1.000000     1.000000     1.826942     1.000000     1.590683  2.000000   \n",
              "\n",
              "        2.1  1.562286981.1       1.1  1.451729131  ...  0.562286981.22  \\\n",
              "0  1.497755       1.279881  1.000000     1.224850  ...        0.279881   \n",
              "1  1.562287       2.000000  1.615786     1.803378  ...        1.000000   \n",
              "2  1.406841       1.228761  1.000000     1.183782  ...        0.228761   \n",
              "3  1.401640       1.714298  1.439855     1.573851  ...        0.714298   \n",
              "4  1.000000       1.826942  1.744655     1.664347  ...        0.826942   \n",
              "\n",
              "      0.266  0.267  0.268     0.269      1.92  0.451729131.12  0.270  \\\n",
              "0  0.000000    0.0    0.0  0.000000  1.000000        0.224850    0.0   \n",
              "1  0.000000    0.0    0.0  0.000000  1.282526        0.803378    0.0   \n",
              "2  0.671937    0.0    0.0  0.695892  1.000000        0.183782    0.0   \n",
              "3  0.000000    0.0    0.0  0.000000  1.201808        0.573851    0.0   \n",
              "4  0.000000    0.0    0.0  0.000000  1.341651        0.664347    0.0   \n",
              "\n",
              "   1.353526803.2  0.354175894  \n",
              "0       1.710243     0.176293  \n",
              "1       1.198784     0.199148  \n",
              "2       1.143829     0.870552  \n",
              "3       1.573098     0.142251  \n",
              "4       1.000000     0.000000  \n",
              "\n",
              "[5 rows x 600 columns]"
            ],
            "text/html": [
              "\n",
              "  <div id=\"df-ac2b1958-c4f2-4896-b20f-69e6ea05871e\">\n",
              "    <div class=\"colab-df-container\">\n",
              "      <div>\n",
              "<style scoped>\n",
              "    .dataframe tbody tr th:only-of-type {\n",
              "        vertical-align: middle;\n",
              "    }\n",
              "\n",
              "    .dataframe tbody tr th {\n",
              "        vertical-align: top;\n",
              "    }\n",
              "\n",
              "    .dataframe thead th {\n",
              "        text-align: right;\n",
              "    }\n",
              "</style>\n",
              "<table border=\"1\" class=\"dataframe\">\n",
              "  <thead>\n",
              "    <tr style=\"text-align: right;\">\n",
              "      <th></th>\n",
              "      <th>2</th>\n",
              "      <th>1.497754886</th>\n",
              "      <th>1.562286981</th>\n",
              "      <th>1.406840777</th>\n",
              "      <th>1.401640301</th>\n",
              "      <th>1</th>\n",
              "      <th>2.1</th>\n",
              "      <th>1.562286981.1</th>\n",
              "      <th>1.1</th>\n",
              "      <th>1.451729131</th>\n",
              "      <th>...</th>\n",
              "      <th>0.562286981.22</th>\n",
              "      <th>0.266</th>\n",
              "      <th>0.267</th>\n",
              "      <th>0.268</th>\n",
              "      <th>0.269</th>\n",
              "      <th>1.92</th>\n",
              "      <th>0.451729131.12</th>\n",
              "      <th>0.270</th>\n",
              "      <th>1.353526803.2</th>\n",
              "      <th>0.354175894</th>\n",
              "    </tr>\n",
              "  </thead>\n",
              "  <tbody>\n",
              "    <tr>\n",
              "      <th>0</th>\n",
              "      <td>1.497755</td>\n",
              "      <td>2.000000</td>\n",
              "      <td>1.279881</td>\n",
              "      <td>1.202507</td>\n",
              "      <td>1.806904</td>\n",
              "      <td>1.000000</td>\n",
              "      <td>1.497755</td>\n",
              "      <td>1.279881</td>\n",
              "      <td>1.000000</td>\n",
              "      <td>1.224850</td>\n",
              "      <td>...</td>\n",
              "      <td>0.279881</td>\n",
              "      <td>0.000000</td>\n",
              "      <td>0.0</td>\n",
              "      <td>0.0</td>\n",
              "      <td>0.000000</td>\n",
              "      <td>1.000000</td>\n",
              "      <td>0.224850</td>\n",
              "      <td>0.0</td>\n",
              "      <td>1.710243</td>\n",
              "      <td>0.176293</td>\n",
              "    </tr>\n",
              "    <tr>\n",
              "      <th>1</th>\n",
              "      <td>1.562287</td>\n",
              "      <td>1.279881</td>\n",
              "      <td>2.000000</td>\n",
              "      <td>1.228761</td>\n",
              "      <td>1.714298</td>\n",
              "      <td>1.826942</td>\n",
              "      <td>1.562287</td>\n",
              "      <td>2.000000</td>\n",
              "      <td>1.615786</td>\n",
              "      <td>1.803378</td>\n",
              "      <td>...</td>\n",
              "      <td>1.000000</td>\n",
              "      <td>0.000000</td>\n",
              "      <td>0.0</td>\n",
              "      <td>0.0</td>\n",
              "      <td>0.000000</td>\n",
              "      <td>1.282526</td>\n",
              "      <td>0.803378</td>\n",
              "      <td>0.0</td>\n",
              "      <td>1.198784</td>\n",
              "      <td>0.199148</td>\n",
              "    </tr>\n",
              "    <tr>\n",
              "      <th>2</th>\n",
              "      <td>1.406841</td>\n",
              "      <td>1.202507</td>\n",
              "      <td>1.228761</td>\n",
              "      <td>2.000000</td>\n",
              "      <td>1.163404</td>\n",
              "      <td>1.000000</td>\n",
              "      <td>1.406841</td>\n",
              "      <td>1.228761</td>\n",
              "      <td>1.000000</td>\n",
              "      <td>1.183782</td>\n",
              "      <td>...</td>\n",
              "      <td>0.228761</td>\n",
              "      <td>0.671937</td>\n",
              "      <td>0.0</td>\n",
              "      <td>0.0</td>\n",
              "      <td>0.695892</td>\n",
              "      <td>1.000000</td>\n",
              "      <td>0.183782</td>\n",
              "      <td>0.0</td>\n",
              "      <td>1.143829</td>\n",
              "      <td>0.870552</td>\n",
              "    </tr>\n",
              "    <tr>\n",
              "      <th>3</th>\n",
              "      <td>1.401640</td>\n",
              "      <td>1.806904</td>\n",
              "      <td>1.714298</td>\n",
              "      <td>1.163404</td>\n",
              "      <td>2.000000</td>\n",
              "      <td>1.590683</td>\n",
              "      <td>1.401640</td>\n",
              "      <td>1.714298</td>\n",
              "      <td>1.439855</td>\n",
              "      <td>1.573851</td>\n",
              "      <td>...</td>\n",
              "      <td>0.714298</td>\n",
              "      <td>0.000000</td>\n",
              "      <td>0.0</td>\n",
              "      <td>0.0</td>\n",
              "      <td>0.000000</td>\n",
              "      <td>1.201808</td>\n",
              "      <td>0.573851</td>\n",
              "      <td>0.0</td>\n",
              "      <td>1.573098</td>\n",
              "      <td>0.142251</td>\n",
              "    </tr>\n",
              "    <tr>\n",
              "      <th>4</th>\n",
              "      <td>1.000000</td>\n",
              "      <td>1.000000</td>\n",
              "      <td>1.826942</td>\n",
              "      <td>1.000000</td>\n",
              "      <td>1.590683</td>\n",
              "      <td>2.000000</td>\n",
              "      <td>1.000000</td>\n",
              "      <td>1.826942</td>\n",
              "      <td>1.744655</td>\n",
              "      <td>1.664347</td>\n",
              "      <td>...</td>\n",
              "      <td>0.826942</td>\n",
              "      <td>0.000000</td>\n",
              "      <td>0.0</td>\n",
              "      <td>0.0</td>\n",
              "      <td>0.000000</td>\n",
              "      <td>1.341651</td>\n",
              "      <td>0.664347</td>\n",
              "      <td>0.0</td>\n",
              "      <td>1.000000</td>\n",
              "      <td>0.000000</td>\n",
              "    </tr>\n",
              "  </tbody>\n",
              "</table>\n",
              "<p>5 rows × 600 columns</p>\n",
              "</div>\n",
              "      <button class=\"colab-df-convert\" onclick=\"convertToInteractive('df-ac2b1958-c4f2-4896-b20f-69e6ea05871e')\"\n",
              "              title=\"Convert this dataframe to an interactive table.\"\n",
              "              style=\"display:none;\">\n",
              "        \n",
              "  <svg xmlns=\"http://www.w3.org/2000/svg\" height=\"24px\"viewBox=\"0 0 24 24\"\n",
              "       width=\"24px\">\n",
              "    <path d=\"M0 0h24v24H0V0z\" fill=\"none\"/>\n",
              "    <path d=\"M18.56 5.44l.94 2.06.94-2.06 2.06-.94-2.06-.94-.94-2.06-.94 2.06-2.06.94zm-11 1L8.5 8.5l.94-2.06 2.06-.94-2.06-.94L8.5 2.5l-.94 2.06-2.06.94zm10 10l.94 2.06.94-2.06 2.06-.94-2.06-.94-.94-2.06-.94 2.06-2.06.94z\"/><path d=\"M17.41 7.96l-1.37-1.37c-.4-.4-.92-.59-1.43-.59-.52 0-1.04.2-1.43.59L10.3 9.45l-7.72 7.72c-.78.78-.78 2.05 0 2.83L4 21.41c.39.39.9.59 1.41.59.51 0 1.02-.2 1.41-.59l7.78-7.78 2.81-2.81c.8-.78.8-2.07 0-2.86zM5.41 20L4 18.59l7.72-7.72 1.47 1.35L5.41 20z\"/>\n",
              "  </svg>\n",
              "      </button>\n",
              "      \n",
              "  <style>\n",
              "    .colab-df-container {\n",
              "      display:flex;\n",
              "      flex-wrap:wrap;\n",
              "      gap: 12px;\n",
              "    }\n",
              "\n",
              "    .colab-df-convert {\n",
              "      background-color: #E8F0FE;\n",
              "      border: none;\n",
              "      border-radius: 50%;\n",
              "      cursor: pointer;\n",
              "      display: none;\n",
              "      fill: #1967D2;\n",
              "      height: 32px;\n",
              "      padding: 0 0 0 0;\n",
              "      width: 32px;\n",
              "    }\n",
              "\n",
              "    .colab-df-convert:hover {\n",
              "      background-color: #E2EBFA;\n",
              "      box-shadow: 0px 1px 2px rgba(60, 64, 67, 0.3), 0px 1px 3px 1px rgba(60, 64, 67, 0.15);\n",
              "      fill: #174EA6;\n",
              "    }\n",
              "\n",
              "    [theme=dark] .colab-df-convert {\n",
              "      background-color: #3B4455;\n",
              "      fill: #D2E3FC;\n",
              "    }\n",
              "\n",
              "    [theme=dark] .colab-df-convert:hover {\n",
              "      background-color: #434B5C;\n",
              "      box-shadow: 0px 1px 3px 1px rgba(0, 0, 0, 0.15);\n",
              "      filter: drop-shadow(0px 1px 2px rgba(0, 0, 0, 0.3));\n",
              "      fill: #FFFFFF;\n",
              "    }\n",
              "  </style>\n",
              "\n",
              "      <script>\n",
              "        const buttonEl =\n",
              "          document.querySelector('#df-ac2b1958-c4f2-4896-b20f-69e6ea05871e button.colab-df-convert');\n",
              "        buttonEl.style.display =\n",
              "          google.colab.kernel.accessAllowed ? 'block' : 'none';\n",
              "\n",
              "        async function convertToInteractive(key) {\n",
              "          const element = document.querySelector('#df-ac2b1958-c4f2-4896-b20f-69e6ea05871e');\n",
              "          const dataTable =\n",
              "            await google.colab.kernel.invokeFunction('convertToInteractive',\n",
              "                                                     [key], {});\n",
              "          if (!dataTable) return;\n",
              "\n",
              "          const docLinkHtml = 'Like what you see? Visit the ' +\n",
              "            '<a target=\"_blank\" href=https://colab.research.google.com/notebooks/data_table.ipynb>data table notebook</a>'\n",
              "            + ' to learn more about interactive tables.';\n",
              "          element.innerHTML = '';\n",
              "          dataTable['output_type'] = 'display_data';\n",
              "          await google.colab.output.renderOutput(dataTable, element);\n",
              "          const docLink = document.createElement('div');\n",
              "          docLink.innerHTML = docLinkHtml;\n",
              "          element.appendChild(docLink);\n",
              "        }\n",
              "      </script>\n",
              "    </div>\n",
              "  </div>\n",
              "  "
            ]
          },
          "metadata": {},
          "execution_count": 6
        }
      ]
    },
    {
      "cell_type": "code",
      "source": [
        "import numpy as np \n",
        "from matplotlib import pyplot as plt\n",
        "data = np.genfromtxt('/content/genres+ratings(without index).csv', delimiter=',')"
      ],
      "metadata": {
        "id": "crfJCXGhcvuy"
      },
      "execution_count": null,
      "outputs": []
    },
    {
      "cell_type": "code",
      "source": [
        "data"
      ],
      "metadata": {
        "colab": {
          "base_uri": "https://localhost:8080/"
        },
        "id": "sp_MsWQKdYYl",
        "outputId": "034017d8-3eb4-4c50-da81-6ef5c60e38ee"
      },
      "execution_count": null,
      "outputs": [
        {
          "output_type": "execute_result",
          "data": {
            "text/plain": [
              "array([[2.        , 1.49775489, 1.56228698, ..., 0.        , 1.3535268 ,\n",
              "        0.35417589],\n",
              "       [1.49775489, 2.        , 1.27988109, ..., 0.        , 1.71024276,\n",
              "        0.17629278],\n",
              "       [1.56228698, 1.27988109, 2.        , ..., 0.        , 1.19878352,\n",
              "        0.19914849],\n",
              "       ...,\n",
              "       [0.        , 0.        , 0.        , ..., 2.        , 0.        ,\n",
              "        0.        ],\n",
              "       [1.3535268 , 1.71024276, 1.19878352, ..., 0.        , 2.        ,\n",
              "        0.3669068 ],\n",
              "       [0.35417589, 0.17629278, 0.19914849, ..., 0.        , 0.3669068 ,\n",
              "        2.        ]])"
            ]
          },
          "metadata": {},
          "execution_count": 8
        }
      ]
    },
    {
      "cell_type": "code",
      "source": [
        "import numpy as np\n",
        "import pandas as pd\n",
        "\n",
        "filepath = \"/content/genres+ratings(without index).csv\"\n",
        "df = pd.read_csv(filepath)\n",
        "\n",
        "list1 = []\n",
        "for i in range(df.shape[0]):\n",
        "    for j in range(df.shape[1]):\n",
        "        if df.iloc[i, j] == 0:\n",
        "            list1.append((i, j))"
      ],
      "metadata": {
        "id": "xe4uRm2ekZ00"
      },
      "execution_count": null,
      "outputs": []
    },
    {
      "cell_type": "code",
      "source": [
        "extract = np.zeros((600,5))"
      ],
      "metadata": {
        "id": "1AsCfNXPmVhI"
      },
      "execution_count": null,
      "outputs": []
    },
    {
      "cell_type": "code",
      "source": [
        "dd = pd.DataFrame(list1)"
      ],
      "metadata": {
        "id": "SIWIbIPKk6b8"
      },
      "execution_count": null,
      "outputs": []
    },
    {
      "cell_type": "code",
      "source": [
        "import random\n",
        "# for i in range(0,599):\n",
        "rand = (random.choices(dd[0],k=5))"
      ],
      "metadata": {
        "id": "PwvCpvahiuPC"
      },
      "execution_count": null,
      "outputs": []
    },
    {
      "cell_type": "code",
      "source": [
        "rand"
      ],
      "metadata": {
        "colab": {
          "base_uri": "https://localhost:8080/"
        },
        "id": "wqY4BtOAjW3n",
        "outputId": "6eca6b30-783f-4cbe-cbaa-31b1fc7ed32b"
      },
      "execution_count": null,
      "outputs": [
        {
          "output_type": "execute_result",
          "data": {
            "text/plain": [
              "[(557, 204), (490, 341), (130, 495), (102, 49), (403, 8)]"
            ]
          },
          "metadata": {},
          "execution_count": 42
        }
      ]
    },
    {
      "cell_type": "code",
      "source": [
        "dd[1]"
      ],
      "metadata": {
        "colab": {
          "base_uri": "https://localhost:8080/"
        },
        "id": "Aa4vIvtBlMwI",
        "outputId": "13588041-1eeb-4ac0-b864-a3fbf558091b"
      },
      "execution_count": null,
      "outputs": [
        {
          "output_type": "execute_result",
          "data": {
            "text/plain": [
              "0          22\n",
              "1          53\n",
              "2          74\n",
              "3          90\n",
              "4         104\n",
              "         ... \n",
              "134748    588\n",
              "134749    589\n",
              "134750    592\n",
              "134751    595\n",
              "134752    597\n",
              "Name: 1, Length: 134753, dtype: int64"
            ]
          },
          "metadata": {},
          "execution_count": 41
        }
      ]
    },
    {
      "cell_type": "code",
      "source": [
        "dd.to_csv(\"index.csv\")"
      ],
      "metadata": {
        "id": "muhCb5LplOBc"
      },
      "execution_count": null,
      "outputs": []
    }
  ]
}